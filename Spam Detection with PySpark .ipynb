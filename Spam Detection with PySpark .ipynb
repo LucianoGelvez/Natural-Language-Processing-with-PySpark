{
 "cells": [
  {
   "cell_type": "code",
   "execution_count": 1,
   "id": "81cc3db4",
   "metadata": {},
   "outputs": [],
   "source": [
    "from pyspark.sql import SparkSession"
   ]
  },
  {
   "cell_type": "code",
   "execution_count": 2,
   "id": "d33e6c2e",
   "metadata": {},
   "outputs": [
    {
     "name": "stderr",
     "output_type": "stream",
     "text": [
      "25/01/11 21:23:07 WARN SparkSession: Using an existing Spark session; only runtime SQL configurations will take effect.\n"
     ]
    }
   ],
   "source": [
    "spark = SparkSession.builder.appName(\"npl\").getOrCreate()"
   ]
  },
  {
   "cell_type": "code",
   "execution_count": 3,
   "id": "5c5db165",
   "metadata": {},
   "outputs": [
    {
     "name": "stderr",
     "output_type": "stream",
     "text": [
      "                                                                                \r"
     ]
    }
   ],
   "source": [
    "data = spark.read.csv(\"smsspamcollection/SMSSpamCollection\",inferSchema=True, sep='\\t')  "
   ]
  },
  {
   "cell_type": "code",
   "execution_count": 4,
   "id": "0aee60f4",
   "metadata": {},
   "outputs": [],
   "source": [
    "data = data.withColumnRenamed('_c0','class').withColumnRenamed('_c1', 'text')"
   ]
  },
  {
   "cell_type": "code",
   "execution_count": 5,
   "id": "42c61e1f",
   "metadata": {},
   "outputs": [
    {
     "name": "stdout",
     "output_type": "stream",
     "text": [
      "+-----+--------------------+\n",
      "|class|                text|\n",
      "+-----+--------------------+\n",
      "|  ham|Go until jurong p...|\n",
      "|  ham|Ok lar... Joking ...|\n",
      "| spam|Free entry in 2 a...|\n",
      "|  ham|U dun say so earl...|\n",
      "|  ham|Nah I don't think...|\n",
      "| spam|FreeMsg Hey there...|\n",
      "|  ham|Even my brother i...|\n",
      "|  ham|As per your reque...|\n",
      "| spam|WINNER!! As a val...|\n",
      "| spam|Had your mobile 1...|\n",
      "|  ham|I'm gonna be home...|\n",
      "| spam|SIX chances to wi...|\n",
      "| spam|URGENT! You have ...|\n",
      "|  ham|I've been searchi...|\n",
      "|  ham|I HAVE A DATE ON ...|\n",
      "| spam|XXXMobileMovieClu...|\n",
      "|  ham|Oh k...i'm watchi...|\n",
      "|  ham|Eh u remember how...|\n",
      "|  ham|Fine if thats th...|\n",
      "| spam|England v Macedon...|\n",
      "+-----+--------------------+\n",
      "only showing top 20 rows\n",
      "\n"
     ]
    }
   ],
   "source": [
    "data.show()"
   ]
  },
  {
   "cell_type": "code",
   "execution_count": 6,
   "id": "68cb2e02",
   "metadata": {},
   "outputs": [],
   "source": [
    "from pyspark.sql.functions import length"
   ]
  },
  {
   "cell_type": "code",
   "execution_count": 7,
   "id": "0c39c7a6",
   "metadata": {},
   "outputs": [],
   "source": [
    "data = data.withColumn('length', length(data['text']))"
   ]
  },
  {
   "cell_type": "code",
   "execution_count": 8,
   "id": "b8dc7e60",
   "metadata": {},
   "outputs": [
    {
     "name": "stdout",
     "output_type": "stream",
     "text": [
      "+-----+--------------------+------+\n",
      "|class|                text|length|\n",
      "+-----+--------------------+------+\n",
      "|  ham|Go until jurong p...|   111|\n",
      "|  ham|Ok lar... Joking ...|    29|\n",
      "| spam|Free entry in 2 a...|   155|\n",
      "|  ham|U dun say so earl...|    49|\n",
      "|  ham|Nah I don't think...|    61|\n",
      "| spam|FreeMsg Hey there...|   147|\n",
      "|  ham|Even my brother i...|    77|\n",
      "|  ham|As per your reque...|   160|\n",
      "| spam|WINNER!! As a val...|   157|\n",
      "| spam|Had your mobile 1...|   154|\n",
      "|  ham|I'm gonna be home...|   109|\n",
      "| spam|SIX chances to wi...|   136|\n",
      "| spam|URGENT! You have ...|   155|\n",
      "|  ham|I've been searchi...|   196|\n",
      "|  ham|I HAVE A DATE ON ...|    35|\n",
      "| spam|XXXMobileMovieClu...|   149|\n",
      "|  ham|Oh k...i'm watchi...|    26|\n",
      "|  ham|Eh u remember how...|    81|\n",
      "|  ham|Fine if thats th...|    56|\n",
      "| spam|England v Macedon...|   155|\n",
      "+-----+--------------------+------+\n",
      "only showing top 20 rows\n",
      "\n"
     ]
    }
   ],
   "source": [
    "data.show()"
   ]
  },
  {
   "cell_type": "code",
   "execution_count": 9,
   "id": "3631b1f3",
   "metadata": {},
   "outputs": [
    {
     "name": "stderr",
     "output_type": "stream",
     "text": [
      "\r",
      "[Stage 4:>                                                          (0 + 1) / 1]\r"
     ]
    },
    {
     "name": "stdout",
     "output_type": "stream",
     "text": [
      "+-----+-----------------+\n",
      "|class|      avg(length)|\n",
      "+-----+-----------------+\n",
      "|  ham|71.45431945307645|\n",
      "| spam|138.6706827309237|\n",
      "+-----+-----------------+\n",
      "\n"
     ]
    },
    {
     "name": "stderr",
     "output_type": "stream",
     "text": [
      "\r",
      "                                                                                \r"
     ]
    }
   ],
   "source": [
    "data.groupBy('class').mean().show()"
   ]
  },
  {
   "cell_type": "code",
   "execution_count": 10,
   "id": "1d2c3ca7",
   "metadata": {},
   "outputs": [],
   "source": [
    "from pyspark.ml.feature import Tokenizer, CountVectorizer, StringIndexer, IDF, StopWordsRemover"
   ]
  },
  {
   "cell_type": "code",
   "execution_count": 11,
   "id": "2343c623",
   "metadata": {},
   "outputs": [],
   "source": [
    "tokenizer = Tokenizer(inputCol='text', outputCol='token_text')\n",
    "stop_remove = StopWordsRemover(inputCol='token_text', outputCol='stop_token')\n",
    "count_vec = CountVectorizer(inputCol='stop_token', outputCol='c_vec')\n",
    "idf = IDF(inputCol='c_vec',outputCol='tf_idf')\n",
    "ham_spam_to_numeric = StringIndexer(inputCol='class', outputCol='label')"
   ]
  },
  {
   "cell_type": "code",
   "execution_count": 12,
   "id": "b95defa4",
   "metadata": {},
   "outputs": [],
   "source": [
    "from pyspark.ml.feature import VectorAssembler"
   ]
  },
  {
   "cell_type": "code",
   "execution_count": 13,
   "id": "4fe417d2",
   "metadata": {},
   "outputs": [],
   "source": [
    "clean_up = VectorAssembler(inputCols=['tf_idf', 'length'], outputCol='features')"
   ]
  },
  {
   "cell_type": "code",
   "execution_count": 36,
   "id": "a68f003d",
   "metadata": {},
   "outputs": [],
   "source": [
    "from pyspark.ml.classification import LogisticRegression"
   ]
  },
  {
   "cell_type": "code",
   "execution_count": 37,
   "id": "727ff7bb",
   "metadata": {},
   "outputs": [],
   "source": [
    "nb = LogisticRegression()"
   ]
  },
  {
   "cell_type": "code",
   "execution_count": 38,
   "id": "d6e004f9",
   "metadata": {},
   "outputs": [],
   "source": [
    "from pyspark.ml import Pipeline"
   ]
  },
  {
   "cell_type": "code",
   "execution_count": 39,
   "id": "dd12c40a",
   "metadata": {},
   "outputs": [],
   "source": [
    "data_prep_pipe = Pipeline(stages = [ham_spam_to_numeric, tokenizer, stop_remove, count_vec, idf, clean_up])"
   ]
  },
  {
   "cell_type": "code",
   "execution_count": 40,
   "id": "00fe0f5e",
   "metadata": {},
   "outputs": [
    {
     "name": "stderr",
     "output_type": "stream",
     "text": [
      "                                                                                \r"
     ]
    }
   ],
   "source": [
    "cleaner = data_prep_pipe.fit(data)"
   ]
  },
  {
   "cell_type": "code",
   "execution_count": 41,
   "id": "4bace8a5",
   "metadata": {},
   "outputs": [],
   "source": [
    "cleaner_data = cleaner.transform(data)"
   ]
  },
  {
   "cell_type": "code",
   "execution_count": 42,
   "id": "1e160d5f",
   "metadata": {},
   "outputs": [],
   "source": [
    "cleaner_data = cleaner_data.select('label', 'features')"
   ]
  },
  {
   "cell_type": "code",
   "execution_count": 43,
   "id": "53648bb6",
   "metadata": {},
   "outputs": [
    {
     "name": "stdout",
     "output_type": "stream",
     "text": [
      "+-----+--------------------+\n",
      "|label|            features|\n",
      "+-----+--------------------+\n",
      "|  0.0|(13424,[7,11,31,6...|\n",
      "|  0.0|(13424,[0,24,301,...|\n",
      "|  1.0|(13424,[2,13,19,3...|\n",
      "|  0.0|(13424,[0,70,80,1...|\n",
      "|  0.0|(13424,[36,134,31...|\n",
      "|  1.0|(13424,[10,60,140...|\n",
      "|  0.0|(13424,[10,53,102...|\n",
      "|  0.0|(13424,[127,185,4...|\n",
      "|  1.0|(13424,[1,47,121,...|\n",
      "|  1.0|(13424,[0,1,13,27...|\n",
      "|  0.0|(13424,[18,43,117...|\n",
      "|  1.0|(13424,[8,16,37,8...|\n",
      "|  1.0|(13424,[13,30,47,...|\n",
      "|  0.0|(13424,[39,95,221...|\n",
      "|  0.0|(13424,[555,1797,...|\n",
      "|  1.0|(13424,[30,109,11...|\n",
      "|  0.0|(13424,[82,214,44...|\n",
      "|  0.0|(13424,[0,2,49,13...|\n",
      "|  0.0|(13424,[0,74,105,...|\n",
      "|  1.0|(13424,[4,30,33,5...|\n",
      "+-----+--------------------+\n",
      "only showing top 20 rows\n",
      "\n"
     ]
    }
   ],
   "source": [
    "cleaner_data.show()"
   ]
  },
  {
   "cell_type": "code",
   "execution_count": 44,
   "id": "6d144020",
   "metadata": {},
   "outputs": [],
   "source": [
    "training, test = cleaner_data.randomSplit([0.7, 0.3])"
   ]
  },
  {
   "cell_type": "code",
   "execution_count": 45,
   "id": "7c5480f2",
   "metadata": {},
   "outputs": [
    {
     "name": "stderr",
     "output_type": "stream",
     "text": [
      "25/01/11 22:28:01 WARN DAGScheduler: Broadcasting large task binary with size 1166.0 KiB\n",
      "25/01/11 22:28:02 WARN DAGScheduler: Broadcasting large task binary with size 1166.7 KiB\n",
      "25/01/11 22:28:03 WARN DAGScheduler: Broadcasting large task binary with size 1166.7 KiB\n",
      "25/01/11 22:28:03 WARN DAGScheduler: Broadcasting large task binary with size 1166.7 KiB\n",
      "25/01/11 22:28:03 WARN DAGScheduler: Broadcasting large task binary with size 1166.7 KiB\n",
      "25/01/11 22:28:04 WARN DAGScheduler: Broadcasting large task binary with size 1166.7 KiB\n",
      "25/01/11 22:28:04 WARN DAGScheduler: Broadcasting large task binary with size 1166.7 KiB\n",
      "25/01/11 22:28:04 WARN DAGScheduler: Broadcasting large task binary with size 1166.7 KiB\n",
      "25/01/11 22:28:04 WARN DAGScheduler: Broadcasting large task binary with size 1166.7 KiB\n",
      "25/01/11 22:28:05 WARN DAGScheduler: Broadcasting large task binary with size 1166.7 KiB\n",
      "25/01/11 22:28:05 WARN DAGScheduler: Broadcasting large task binary with size 1166.7 KiB\n",
      "25/01/11 22:28:05 WARN DAGScheduler: Broadcasting large task binary with size 1166.7 KiB\n",
      "25/01/11 22:28:06 WARN DAGScheduler: Broadcasting large task binary with size 1166.7 KiB\n",
      "25/01/11 22:28:06 WARN DAGScheduler: Broadcasting large task binary with size 1166.7 KiB\n",
      "25/01/11 22:28:06 WARN DAGScheduler: Broadcasting large task binary with size 1166.7 KiB\n",
      "25/01/11 22:28:06 WARN DAGScheduler: Broadcasting large task binary with size 1166.7 KiB\n",
      "25/01/11 22:28:06 WARN DAGScheduler: Broadcasting large task binary with size 1166.7 KiB\n",
      "25/01/11 22:28:07 WARN DAGScheduler: Broadcasting large task binary with size 1166.7 KiB\n",
      "25/01/11 22:28:07 WARN DAGScheduler: Broadcasting large task binary with size 1166.7 KiB\n",
      "25/01/11 22:28:07 WARN DAGScheduler: Broadcasting large task binary with size 1166.7 KiB\n",
      "25/01/11 22:28:07 WARN DAGScheduler: Broadcasting large task binary with size 1166.7 KiB\n",
      "25/01/11 22:28:07 WARN DAGScheduler: Broadcasting large task binary with size 1166.7 KiB\n",
      "25/01/11 22:28:08 WARN DAGScheduler: Broadcasting large task binary with size 1166.7 KiB\n",
      "25/01/11 22:28:08 WARN DAGScheduler: Broadcasting large task binary with size 1166.7 KiB\n",
      "25/01/11 22:28:08 WARN DAGScheduler: Broadcasting large task binary with size 1166.7 KiB\n",
      "25/01/11 22:28:08 WARN DAGScheduler: Broadcasting large task binary with size 1166.7 KiB\n",
      "25/01/11 22:28:08 WARN DAGScheduler: Broadcasting large task binary with size 1166.7 KiB\n",
      "25/01/11 22:28:08 WARN DAGScheduler: Broadcasting large task binary with size 1166.7 KiB\n",
      "25/01/11 22:28:09 WARN DAGScheduler: Broadcasting large task binary with size 1166.7 KiB\n",
      "25/01/11 22:28:09 WARN DAGScheduler: Broadcasting large task binary with size 1166.7 KiB\n",
      "25/01/11 22:28:09 WARN DAGScheduler: Broadcasting large task binary with size 1166.7 KiB\n",
      "25/01/11 22:28:10 WARN DAGScheduler: Broadcasting large task binary with size 1166.7 KiB\n",
      "25/01/11 22:28:10 WARN DAGScheduler: Broadcasting large task binary with size 1166.7 KiB\n"
     ]
    }
   ],
   "source": [
    "spam_detector = nb.fit(training)"
   ]
  },
  {
   "cell_type": "code",
   "execution_count": 46,
   "id": "f977b254",
   "metadata": {},
   "outputs": [
    {
     "name": "stdout",
     "output_type": "stream",
     "text": [
      "root\n",
      " |-- class: string (nullable = true)\n",
      " |-- text: string (nullable = true)\n",
      " |-- length: integer (nullable = true)\n",
      "\n"
     ]
    }
   ],
   "source": [
    "data.printSchema()"
   ]
  },
  {
   "cell_type": "code",
   "execution_count": 47,
   "id": "f5d56cb8",
   "metadata": {},
   "outputs": [],
   "source": [
    "test_result = spam_detector.transform(test)"
   ]
  },
  {
   "cell_type": "code",
   "execution_count": 48,
   "id": "9e248aea",
   "metadata": {},
   "outputs": [
    {
     "name": "stderr",
     "output_type": "stream",
     "text": [
      "25/01/11 22:28:22 WARN DAGScheduler: Broadcasting large task binary with size 1271.8 KiB\n"
     ]
    },
    {
     "name": "stdout",
     "output_type": "stream",
     "text": [
      "+-----+--------------------+--------------------+--------------------+----------+\n",
      "|label|            features|       rawPrediction|         probability|prediction|\n",
      "+-----+--------------------+--------------------+--------------------+----------+\n",
      "|  0.0|(13424,[0,1,2,7,8...|[30.4126101020943...|[0.99999999999993...|       0.0|\n",
      "|  0.0|(13424,[0,1,2,13,...|[15.0998324530106...|[0.99999972316183...|       0.0|\n",
      "|  0.0|(13424,[0,1,2,41,...|[16.2716385279227...|[0.99999991423360...|       0.0|\n",
      "|  0.0|(13424,[0,1,4,50,...|[25.2266670493935...|[0.99999999998892...|       0.0|\n",
      "|  0.0|(13424,[0,1,7,8,1...|[14.0141204135137...|[0.99999918013097...|       0.0|\n",
      "|  0.0|(13424,[0,1,7,8,1...|[14.0918298910027...|[0.99999924142992...|       0.0|\n",
      "|  0.0|(13424,[0,1,11,32...|[17.2027042355489...|[0.99999996619659...|       0.0|\n",
      "|  0.0|(13424,[0,1,14,18...|[30.3794909260088...|[0.99999999999993...|       0.0|\n",
      "|  0.0|(13424,[0,1,20,27...|[16.0744606613038...|[0.99999989553991...|       0.0|\n",
      "|  0.0|(13424,[0,1,24,31...|[24.1488008966088...|[0.99999999996746...|       0.0|\n",
      "|  0.0|(13424,[0,1,31,43...|[21.7803347967065...|[0.99999999965252...|       0.0|\n",
      "|  0.0|(13424,[0,1,46,17...|[15.3770619478602...|[0.99999979018972...|       0.0|\n",
      "|  0.0|(13424,[0,1,500,5...|[17.5385128357618...|[0.99999997583868...|       0.0|\n",
      "|  0.0|(13424,[0,1,881,1...|[19.6852313583192...|[0.99999999717633...|       0.0|\n",
      "|  0.0|(13424,[0,2,3,6,9...|[20.7933882404181...|[0.99999999906772...|       0.0|\n",
      "|  0.0|(13424,[0,2,4,5,1...|[28.1010027201921...|[0.99999999999937...|       0.0|\n",
      "|  0.0|(13424,[0,2,4,5,1...|[23.2343784626156...|[0.99999999991882...|       0.0|\n",
      "|  0.0|(13424,[0,2,4,7,2...|[21.3809430397561...|[0.99999999948194...|       0.0|\n",
      "|  0.0|(13424,[0,2,4,128...|[24.1295721767019...|[0.99999999996683...|       0.0|\n",
      "|  0.0|(13424,[0,2,7,11,...|[26.5135006054279...|[0.99999999999694...|       0.0|\n",
      "+-----+--------------------+--------------------+--------------------+----------+\n",
      "only showing top 20 rows\n",
      "\n"
     ]
    },
    {
     "name": "stderr",
     "output_type": "stream",
     "text": [
      "\r",
      "[Stage 65:>                                                         (0 + 1) / 1]\r",
      "\r",
      "                                                                                \r"
     ]
    }
   ],
   "source": [
    "test_result.show()"
   ]
  },
  {
   "cell_type": "code",
   "execution_count": 49,
   "id": "7ffe7915",
   "metadata": {},
   "outputs": [],
   "source": [
    "from pyspark.ml.evaluation import MulticlassClassificationEvaluator"
   ]
  },
  {
   "cell_type": "code",
   "execution_count": 50,
   "id": "3eee898e",
   "metadata": {},
   "outputs": [],
   "source": [
    "acc_eval = MulticlassClassificationEvaluator()"
   ]
  },
  {
   "cell_type": "code",
   "execution_count": 51,
   "id": "670ce92e",
   "metadata": {},
   "outputs": [
    {
     "name": "stderr",
     "output_type": "stream",
     "text": [
      "25/01/11 22:28:31 WARN DAGScheduler: Broadcasting large task binary with size 1276.5 KiB\n"
     ]
    }
   ],
   "source": [
    "acc = acc_eval.evaluate(test_result)"
   ]
  },
  {
   "cell_type": "code",
   "execution_count": 52,
   "id": "86c2502e",
   "metadata": {},
   "outputs": [
    {
     "data": {
      "text/plain": [
       "0.9789845758541135"
      ]
     },
     "execution_count": 52,
     "metadata": {},
     "output_type": "execute_result"
    }
   ],
   "source": [
    "acc"
   ]
  },
  {
   "cell_type": "code",
   "execution_count": null,
   "id": "2791d2c6",
   "metadata": {},
   "outputs": [],
   "source": []
  }
 ],
 "metadata": {
  "kernelspec": {
   "display_name": "Python 3 (ipykernel)",
   "language": "python",
   "name": "python3"
  },
  "language_info": {
   "codemirror_mode": {
    "name": "ipython",
    "version": 3
   },
   "file_extension": ".py",
   "mimetype": "text/x-python",
   "name": "python",
   "nbconvert_exporter": "python",
   "pygments_lexer": "ipython3",
   "version": "3.12.3"
  }
 },
 "nbformat": 4,
 "nbformat_minor": 5
}
